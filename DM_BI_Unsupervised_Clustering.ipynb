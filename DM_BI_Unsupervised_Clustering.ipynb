{
 "cells": [
  {
   "cell_type": "markdown",
   "metadata": {},
   "source": [
    "## Data Mining for Business Intelligence\n"
   ]
  },
  {
   "cell_type": "markdown",
   "metadata": {},
   "source": [
    " "
   ]
  },
  {
   "cell_type": "code",
   "execution_count": 132,
   "metadata": {
    "scrolled": true
   },
   "outputs": [
    {
     "name": "stdout",
     "output_type": "stream",
     "text": [
      "\n",
      "The following command must be run outside of the IPython shell:\n",
      "\n",
      "    $ pip install jupyterthemes\n",
      "\n",
      "The Python package manager (pip) can only be used from outside of IPython.\n",
      "Please reissue the `pip` command in a separate terminal or command prompt.\n",
      "\n",
      "See the Python documentation for more information on how to install packages:\n",
      "\n",
      "    https://docs.python.org/3/installing/\n"
     ]
    }
   ],
   "source": [
    "pip install jupyterthemes"
   ]
  },
  {
   "cell_type": "markdown",
   "metadata": {},
   "source": [
    " "
   ]
  },
  {
   "cell_type": "markdown",
   "metadata": {},
   "source": [
    "### Importing the essential libraries and functions"
   ]
  },
  {
   "cell_type": "code",
   "execution_count": 124,
   "metadata": {},
   "outputs": [],
   "source": [
    "import numpy as np\n",
    "import pandas as pd\n",
    "import matplotlib.pyplot as plt\n",
    "import collections\n",
    "\n",
    "from sklearn.cluster import KMeans\n",
    "from sklearn.cluster import DBSCAN\n",
    "from sklearn.mixture import GaussianMixture\n",
    "\n",
    "from sklearn.metrics import silhouette_samples\n",
    "\n"
   ]
  },
  {
   "cell_type": "markdown",
   "metadata": {},
   "source": [
    "### Set Random Seed for reproducibility , and import the dataset"
   ]
  },
  {
   "cell_type": "code",
   "execution_count": 37,
   "metadata": {},
   "outputs": [
    {
     "data": {
      "text/html": [
       "<div>\n",
       "<style scoped>\n",
       "    .dataframe tbody tr th:only-of-type {\n",
       "        vertical-align: middle;\n",
       "    }\n",
       "\n",
       "    .dataframe tbody tr th {\n",
       "        vertical-align: top;\n",
       "    }\n",
       "\n",
       "    .dataframe thead th {\n",
       "        text-align: right;\n",
       "    }\n",
       "</style>\n",
       "<table border=\"1\" class=\"dataframe\">\n",
       "  <thead>\n",
       "    <tr style=\"text-align: right;\">\n",
       "      <th></th>\n",
       "      <th>mpg</th>\n",
       "      <th>cylinders</th>\n",
       "      <th>displacement</th>\n",
       "      <th>horsepower</th>\n",
       "      <th>weight</th>\n",
       "      <th>acceleration</th>\n",
       "      <th>model year</th>\n",
       "      <th>origin</th>\n",
       "      <th>car name</th>\n",
       "    </tr>\n",
       "  </thead>\n",
       "  <tbody>\n",
       "    <tr>\n",
       "      <th>0</th>\n",
       "      <td>15.0</td>\n",
       "      <td>8</td>\n",
       "      <td>350.0</td>\n",
       "      <td>165.0</td>\n",
       "      <td>3693</td>\n",
       "      <td>11.5</td>\n",
       "      <td>70</td>\n",
       "      <td>1</td>\n",
       "      <td>buick skylark 320</td>\n",
       "    </tr>\n",
       "    <tr>\n",
       "      <th>1</th>\n",
       "      <td>18.0</td>\n",
       "      <td>8</td>\n",
       "      <td>318.0</td>\n",
       "      <td>150.0</td>\n",
       "      <td>3436</td>\n",
       "      <td>11.0</td>\n",
       "      <td>70</td>\n",
       "      <td>1</td>\n",
       "      <td>plymouth satellite</td>\n",
       "    </tr>\n",
       "    <tr>\n",
       "      <th>2</th>\n",
       "      <td>16.0</td>\n",
       "      <td>8</td>\n",
       "      <td>304.0</td>\n",
       "      <td>150.0</td>\n",
       "      <td>3433</td>\n",
       "      <td>12.0</td>\n",
       "      <td>70</td>\n",
       "      <td>1</td>\n",
       "      <td>amc rebel sst</td>\n",
       "    </tr>\n",
       "    <tr>\n",
       "      <th>3</th>\n",
       "      <td>17.0</td>\n",
       "      <td>8</td>\n",
       "      <td>302.0</td>\n",
       "      <td>140.0</td>\n",
       "      <td>3449</td>\n",
       "      <td>10.5</td>\n",
       "      <td>70</td>\n",
       "      <td>1</td>\n",
       "      <td>ford torino</td>\n",
       "    </tr>\n",
       "    <tr>\n",
       "      <th>4</th>\n",
       "      <td>15.0</td>\n",
       "      <td>8</td>\n",
       "      <td>429.0</td>\n",
       "      <td>198.0</td>\n",
       "      <td>4341</td>\n",
       "      <td>10.0</td>\n",
       "      <td>70</td>\n",
       "      <td>1</td>\n",
       "      <td>ford galaxie 500</td>\n",
       "    </tr>\n",
       "  </tbody>\n",
       "</table>\n",
       "</div>"
      ],
      "text/plain": [
       "    mpg  cylinders  displacement  horsepower  weight  acceleration  \\\n",
       "0  15.0          8         350.0       165.0    3693          11.5   \n",
       "1  18.0          8         318.0       150.0    3436          11.0   \n",
       "2  16.0          8         304.0       150.0    3433          12.0   \n",
       "3  17.0          8         302.0       140.0    3449          10.5   \n",
       "4  15.0          8         429.0       198.0    4341          10.0   \n",
       "\n",
       "   model year  origin            car name  \n",
       "0          70       1   buick skylark 320  \n",
       "1          70       1  plymouth satellite  \n",
       "2          70       1       amc rebel sst  \n",
       "3          70       1         ford torino  \n",
       "4          70       1    ford galaxie 500  "
      ]
     },
     "execution_count": 37,
     "metadata": {},
     "output_type": "execute_result"
    }
   ],
   "source": [
    "random_state= 0\n",
    "automobiles = pd.read_csv('automobiles.csv')\n",
    "automobiles.head()"
   ]
  },
  {
   "cell_type": "markdown",
   "metadata": {},
   "source": [
    "The dataset contains engine and model information for 397 cars. We attempt to cluster the data\n",
    "and find some structure in the raw dataset. We will drop the car_name from our analysis\n",
    "because it may not be a good conributor to cluster formation."
   ]
  },
  {
   "cell_type": "markdown",
   "metadata": {},
   "source": [
    "### Rename the columns and drop categorical [Car Names]"
   ]
  },
  {
   "cell_type": "code",
   "execution_count": 114,
   "metadata": {},
   "outputs": [],
   "source": [
    "automobiles_copy = automobiles.copy()\n",
    "ac = automobiles_copy\n",
    "ac.columns = ['mpg', 'cylinders', 'displacement', 'horsepower', 'weight',\n",
    "              'acceleration', 'model_year', 'origin', 'car_name']\n",
    "x = ac.drop(['car_name'],axis=1)\n"
   ]
  },
  {
   "cell_type": "code",
   "execution_count": 115,
   "metadata": {},
   "outputs": [
    {
     "data": {
      "text/html": [
       "<div>\n",
       "<style scoped>\n",
       "    .dataframe tbody tr th:only-of-type {\n",
       "        vertical-align: middle;\n",
       "    }\n",
       "\n",
       "    .dataframe tbody tr th {\n",
       "        vertical-align: top;\n",
       "    }\n",
       "\n",
       "    .dataframe thead th {\n",
       "        text-align: right;\n",
       "    }\n",
       "</style>\n",
       "<table border=\"1\" class=\"dataframe\">\n",
       "  <thead>\n",
       "    <tr style=\"text-align: right;\">\n",
       "      <th></th>\n",
       "      <th>mpg</th>\n",
       "      <th>cylinders</th>\n",
       "      <th>displacement</th>\n",
       "      <th>horsepower</th>\n",
       "      <th>weight</th>\n",
       "      <th>acceleration</th>\n",
       "      <th>model_year</th>\n",
       "      <th>origin</th>\n",
       "    </tr>\n",
       "  </thead>\n",
       "  <tbody>\n",
       "    <tr>\n",
       "      <th>0</th>\n",
       "      <td>15.0</td>\n",
       "      <td>8</td>\n",
       "      <td>350.0</td>\n",
       "      <td>165.0</td>\n",
       "      <td>3693</td>\n",
       "      <td>11.5</td>\n",
       "      <td>70</td>\n",
       "      <td>1</td>\n",
       "    </tr>\n",
       "    <tr>\n",
       "      <th>1</th>\n",
       "      <td>18.0</td>\n",
       "      <td>8</td>\n",
       "      <td>318.0</td>\n",
       "      <td>150.0</td>\n",
       "      <td>3436</td>\n",
       "      <td>11.0</td>\n",
       "      <td>70</td>\n",
       "      <td>1</td>\n",
       "    </tr>\n",
       "    <tr>\n",
       "      <th>2</th>\n",
       "      <td>16.0</td>\n",
       "      <td>8</td>\n",
       "      <td>304.0</td>\n",
       "      <td>150.0</td>\n",
       "      <td>3433</td>\n",
       "      <td>12.0</td>\n",
       "      <td>70</td>\n",
       "      <td>1</td>\n",
       "    </tr>\n",
       "    <tr>\n",
       "      <th>3</th>\n",
       "      <td>17.0</td>\n",
       "      <td>8</td>\n",
       "      <td>302.0</td>\n",
       "      <td>140.0</td>\n",
       "      <td>3449</td>\n",
       "      <td>10.5</td>\n",
       "      <td>70</td>\n",
       "      <td>1</td>\n",
       "    </tr>\n",
       "    <tr>\n",
       "      <th>4</th>\n",
       "      <td>15.0</td>\n",
       "      <td>8</td>\n",
       "      <td>429.0</td>\n",
       "      <td>198.0</td>\n",
       "      <td>4341</td>\n",
       "      <td>10.0</td>\n",
       "      <td>70</td>\n",
       "      <td>1</td>\n",
       "    </tr>\n",
       "  </tbody>\n",
       "</table>\n",
       "</div>"
      ],
      "text/plain": [
       "    mpg  cylinders  displacement  horsepower  weight  acceleration  \\\n",
       "0  15.0          8         350.0       165.0    3693          11.5   \n",
       "1  18.0          8         318.0       150.0    3436          11.0   \n",
       "2  16.0          8         304.0       150.0    3433          12.0   \n",
       "3  17.0          8         302.0       140.0    3449          10.5   \n",
       "4  15.0          8         429.0       198.0    4341          10.0   \n",
       "\n",
       "   model_year  origin  \n",
       "0          70       1  \n",
       "1          70       1  \n",
       "2          70       1  \n",
       "3          70       1  \n",
       "4          70       1  "
      ]
     },
     "execution_count": 115,
     "metadata": {},
     "output_type": "execute_result"
    }
   ],
   "source": [
    "x.head()"
   ]
  },
  {
   "cell_type": "markdown",
   "metadata": {},
   "source": [
    "### Hopkin Statistic is used to indicate the 'clusterability' of a dataset with values ranging from zero to one. Internally the measure compares summation of each point to p samples of dataset against p random points.\n"
   ]
  },
  {
   "cell_type": "code",
   "execution_count": 116,
   "metadata": {},
   "outputs": [
    {
     "data": {
      "text/plain": [
       "0.8290147823101627"
      ]
     },
     "execution_count": 116,
     "metadata": {},
     "output_type": "execute_result"
    }
   ],
   "source": [
    "hopkins(x)"
   ]
  },
  {
   "cell_type": "markdown",
   "metadata": {},
   "source": [
    "The hopkins statistic in above dataset is 85% , something close to 50% is as good as random. 85% indicates good clustering tendency of our dataset.  \n",
    "Now we weill go ahead and carry out clustering using the following two algorithms :  \n",
    "\n",
    "1. k-means , the most frequently used algorithm for clustering analysis\n",
    "2. Expectation Maximization algorithm based on Gaussian Kernal density estimation\n",
    "\n"
   ]
  },
  {
   "cell_type": "markdown",
   "metadata": {},
   "source": [
    "## First Step is to choose a good number of clusters. Plotting the number SSE against number of clusters."
   ]
  },
  {
   "cell_type": "code",
   "execution_count": 118,
   "metadata": {},
   "outputs": [
    {
     "name": "stdout",
     "output_type": "stream",
     "text": [
      "SSE for k= 1 : 289339000.91\n",
      "SSE for k= 2 : 74147256.82\n",
      "SSE for k= 3 : 34074580.35\n",
      "SSE for k= 4 : 19053433.22\n",
      "SSE for k= 5 : 13715025.22\n",
      "SSE for k= 6 : 10315953.41\n",
      "SSE for k= 7 : 7671242.11\n",
      "SSE for k= 8 : 5624873.15\n",
      "SSE for k= 9 : 4697081.46\n"
     ]
    }
   ],
   "source": [
    "# Initializing Kmeans for different values of k\n",
    "score = np.zeros(10)\n",
    "for i in range(1,10):\n",
    "    kmeans = KMeans(n_clusters=i, random_state=random_state)\n",
    "    kmeans.fit_predict(x)\n",
    "    score[i] = -kmeans.score(x)\n",
    "    print(\"SSE for k=\",i,\":\", round(score[i],2))"
   ]
  },
  {
   "cell_type": "code",
   "execution_count": 123,
   "metadata": {},
   "outputs": [
    {
     "data": {
      "image/png": "[encoded data removed]",
      "text/plain": [
       "<Figure size 432x288 with 1 Axes>"
      ]
     },
     "metadata": {
      "needs_background": "light"
     },
     "output_type": "display_data"
    }
   ],
   "source": [
    "plt.plot(range(1,10),score[1:10])\n",
    "plt.scatter(range(1,10),score[1:10])\n",
    "plt.xlabel('k')\n",
    "plt.ylabel('SSE')\n",
    "plt.title('SSE for different values of k')\n",
    "plt.show()"
   ]
  },
  {
   "cell_type": "markdown",
   "metadata": {},
   "source": [
    "### Since there is no significant reduction in SSE after 3~4 clusters , so  3 to 4 clusters for each algorithm seems like a good choice for our dataset clustering.\n"
   ]
  },
  {
   "cell_type": "markdown",
   "metadata": {},
   "source": [
    "Since it's not meaningful to plot more than 2 dimensions on a plane , thus we will primariliy work with statistics of various algorithms in our reports , rather than visual representations of our clusterings. "
   ]
  },
  {
   "cell_type": "markdown",
   "metadata": {},
   "source": [
    "## CLUSTERING AND SILHOUTTE COEFFICIENTS :\n",
    "Here we try to compute the silhoutte coefficient of our clusters, which indicates quality of clusters. \n",
    "Silhoutte coefficient accounts for both cohesion (how close packed clusters are) , and separation\n",
    "(how well separated clusters are)\n",
    "\n",
    "We try and compute mean silhoutte scores for both K - Means and EM algorithms for various \n",
    "number of clusters and compare them"
   ]
  },
  {
   "cell_type": "markdown",
   "metadata": {},
   "source": [
    "### K Means Algorithm :"
   ]
  },
  {
   "cell_type": "code",
   "execution_count": 127,
   "metadata": {
    "scrolled": false
   },
   "outputs": [
    {
     "data": {
      "text/plain": [
       "OrderedDict([(2, 0.6350449932064359),\n",
       "             (3, 0.5862382676836432),\n",
       "             (4, 0.578662236745216),\n",
       "             (5, 0.5510290384939304),\n",
       "             (6, 0.524632429004843),\n",
       "             (7, 0.5027932050984207),\n",
       "             (8, 0.5240941934414182),\n",
       "             (9, 0.5119229964460257)])"
      ]
     },
     "execution_count": 127,
     "metadata": {},
     "output_type": "execute_result"
    }
   ],
   "source": [
    "num_clusters = list(range(2,10))\n",
    "sil_vals_kmeans ={}\n",
    "for n in num_clusters:\n",
    "    kmeans = KMeans(n_clusters=n, random_state = random_state)\n",
    "    y_pred = kmeans.fit_predict(x)\n",
    "    mean = np.mean(silhouette_samples(x,y_pred))\n",
    "    sil_vals_kmeans[n] =mean\n",
    "\n",
    "ordered_sil_vals = collections.OrderedDict(sorted(sil_vals_kmeans.items()))\n",
    "ordered_sil_vals"
   ]
  },
  {
   "cell_type": "markdown",
   "metadata": {},
   "source": [
    "### Gaussian Mixture Algorithm (Expectation Maximization - EM) :"
   ]
  },
  {
   "cell_type": "code",
   "execution_count": 129,
   "metadata": {
    "scrolled": true
   },
   "outputs": [
    {
     "data": {
      "text/plain": [
       "OrderedDict([(2, 0.25599001007621863),\n",
       "             (3, 0.42155370460134006),\n",
       "             (4, 0.28921936680639826),\n",
       "             (5, 0.13776956329578535),\n",
       "             (6, -0.0627325674197474),\n",
       "             (7, -0.03435609265735899),\n",
       "             (8, -0.10067543873290753),\n",
       "             (9, -0.11171432290270686)])"
      ]
     },
     "execution_count": 129,
     "metadata": {},
     "output_type": "execute_result"
    }
   ],
   "source": [
    "sil_val_em ={}\n",
    "for n in num_clusters:\n",
    "    gmm = GaussianMixture(n_components=n, covariance_type='full')\n",
    "    y_pred = gmm.fit_predict(x)\n",
    "    mean = np.mean(silhouette_samples(x,y_pred))\n",
    "    sil_val_em[n]= mean\n",
    "ordered_em_vals = collections.OrderedDict(sorted(sil_val_em.items()))\n",
    "ordered_em_vals"
   ]
  },
  {
   "cell_type": "code",
   "execution_count": null,
   "metadata": {},
   "outputs": [],
   "source": []
  },
  {
   "cell_type": "markdown",
   "metadata": {},
   "source": [
    "### Champion Challenge"
   ]
  },
  {
   "cell_type": "code",
   "execution_count": 148,
   "metadata": {},
   "outputs": [
    {
     "data": {
      "image/png": "[encoded data removed]",
      "text/plain": [
       "<Figure size 432x288 with 1 Axes>"
      ]
     },
     "metadata": {
      "needs_background": "light"
     },
     "output_type": "display_data"
    }
   ],
   "source": [
    "x = ordered_em_vals.keys()\n",
    "y1 = ordered_sil_vals.values()\n",
    "y2 = ordered_em_vals.values()\n",
    "plt.plot(x,y1,'--bo',label='KMeans')\n",
    "plt.plot(x,y2,'--rs' , label='EM-Gaussian')\n",
    "plt.legend(loc='upper right')\n",
    "plt.show()\n",
    "\n"
   ]
  },
  {
   "cell_type": "markdown",
   "metadata": {},
   "source": [
    "As we can see above , KMeans has better quality clusters for all provided cluster sizes. \n",
    "Additionally , as we had seen in our earlier SSE optimization , the cluster performance\n",
    "peaks when number of clusters = 4 , in both the cases.\n",
    "\n",
    "## Conclusion :\n",
    "### KMeans algorithm is more suited for clustering of our particular dataset"
   ]
  },
  {
   "cell_type": "markdown",
   "metadata": {},
   "source": [
    " \n",
    " "
   ]
  },
  {
   "cell_type": "markdown",
   "metadata": {},
   "source": [
    "## ----------------------------------END OF MAIN REPORT---------------------------------------"
   ]
  },
  {
   "cell_type": "markdown",
   "metadata": {},
   "source": [
    " "
   ]
  },
  {
   "cell_type": "markdown",
   "metadata": {},
   "source": [
    "####  Below Function used to compute Hopkin Statistic used in the first step"
   ]
  },
  {
   "cell_type": "markdown",
   "metadata": {},
   "source": [
    "### Hopkin Statistic is used to indicate the 'clusterability' of a dataset with values ranging from zero to one. Internally the measure compares summation of each point to p samples of dataset against p random points.\n"
   ]
  },
  {
   "cell_type": "code",
   "execution_count": 108,
   "metadata": {},
   "outputs": [],
   "source": [
    "from sklearn.neighbors import NearestNeighbors\n",
    "from random import sample\n",
    "from numpy.random import uniform\n",
    "from math import isnan\n",
    "\n",
    "def hopkins(X):\n",
    "    X=X.values\n",
    "    n = X.shape[0] #rows\n",
    "    d = X.shape[1] #cols\n",
    "    p = int(0.1 * n) #considering 10% of points\n",
    "    nbrs = NearestNeighbors(n_neighbors=1).fit(X)\n",
    " \n",
    "    rand_X = sample(range(0, n), p) \n",
    " \n",
    "    uj = []\n",
    "    wj = []\n",
    "    for j in range(0, p):\n",
    "        u_dist, _ = nbrs.kneighbors(uniform(np.amin(X,axis=0),np.amax(X,axis=0),d).\n",
    "                                    reshape(1, -1), 2, return_distance=True)\n",
    "        uj.append(u_dist[0][1]) #distances to nearest neighbors in random data\n",
    "        w_dist, _ = nbrs.kneighbors(X[rand_X[j]].reshape(1, -1), 2, return_distance=True)\n",
    "        wj.append(w_dist[0][1]) #distances to nearest neighbors in real data\n",
    " \n",
    "    H = sum(uj) / (sum(uj) + sum(wj))\n",
    "    if isnan(H):\n",
    "        print (uj, wj)\n",
    "        H = 0\n",
    " \n",
    "    return H"
   ]
  },
  {
   "cell_type": "code",
   "execution_count": 109,
   "metadata": {},
   "outputs": [
    {
     "data": {
      "text/plain": [
       "0.8516474973021869"
      ]
     },
     "execution_count": 109,
     "metadata": {},
     "output_type": "execute_result"
    }
   ],
   "source": [
    "hopkins(x)"
   ]
  },
  {
   "cell_type": "markdown",
   "metadata": {},
   "source": [
    "#### Works Cited :  \n",
    "Validating Clusters using the Hopkins Statistic from IEEE 2004\n"
   ]
  }
 ],
 "metadata": {
  "kernelspec": {
   "display_name": "Python 3",
   "language": "python",
   "name": "python3"
  },
  "language_info": {
   "codemirror_mode": {
    "name": "ipython",
    "version": 3
   },
   "file_extension": ".py",
   "mimetype": "text/x-python",
   "name": "python",
   "nbconvert_exporter": "python",
   "pygments_lexer": "ipython3",
   "version": "3.7.1"
  }
 },
 "nbformat": 4,
 "nbformat_minor": 2
}
