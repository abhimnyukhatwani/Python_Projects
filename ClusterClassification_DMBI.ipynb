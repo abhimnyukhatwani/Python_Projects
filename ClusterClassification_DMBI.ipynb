{
 "cells": [
  {
   "cell_type": "markdown",
   "metadata": {},
   "source": [
    "### DATA MINING FOR BUSINESS INTELLIGENCE"
   ]
  },
  {
   "cell_type": "markdown",
   "metadata": {},
   "source": [
    " "
   ]
  },
  {
   "cell_type": "markdown",
   "metadata": {},
   "source": [
    "### OBJECTIVE :\n",
    "\n",
    "We intend to find out which particular features are most significant in the observed cluster memberships\n",
    "obtained in our Unsupervised Learning Project."
   ]
  },
  {
   "cell_type": "markdown",
   "metadata": {},
   "source": [
    " "
   ]
  },
  {
   "cell_type": "markdown",
   "metadata": {},
   "source": [
    "### APPROACH :\n",
    "\n",
    "For Each Feature :\n",
    "1. Obtain the array of values current feature\n",
    "2. Using the feature as independent , and cluster memberships as dependent variable, create test train splits\n",
    "3. Fit logistic regression model on the training set obtained in step 2\n",
    "4. Make clustering prediction using the fitted model of each feature\n",
    "5. Evaluate the performance of  model corresponding to each feature using corresponding test set.\n",
    "6. Rank the features in descending order of performance of their corresponding model\n",
    "7. Visualize the performance of each feature for cluster predictions\n",
    "8. Conclude"
   ]
  },
  {
   "cell_type": "markdown",
   "metadata": {},
   "source": [
    "## Step 1 . :  Import all the relevant Libraries"
   ]
  },
  {
   "cell_type": "code",
   "execution_count": 273,
   "metadata": {},
   "outputs": [],
   "source": [
    "import pandas as pd\n",
    "import numpy as np\n",
    "import matplotlib.pyplot as plt\n",
    "import seaborn as sn\n",
    "import warnings\n",
    "import sys\n",
    "sys.path.append('/usr/local/lib/python2.7/site-packages')\n",
    "from mlxtend.plotting import plot_decision_regions\n",
    "from sklearn.preprocessing import LabelEncoder, OneHotEncoder\n",
    "from sklearn.feature_selection import RFE\n",
    "from sklearn.linear_model import LogisticRegression\n",
    "from sklearn.preprocessing import StandardScaler\n",
    "warnings.filterwarnings('ignore')\n"
   ]
  },
  {
   "cell_type": "markdown",
   "metadata": {},
   "source": [
    "### Step 2 : Merge the cluster predictions from kmeans algorithm used in unsupervised learning,\n",
    "###               Read the file with cluster assignments\n"
   ]
  },
  {
   "cell_type": "code",
   "execution_count": 274,
   "metadata": {},
   "outputs": [
    {
     "data": {
      "text/html": [
       "<div>\n",
       "<style scoped>\n",
       "    .dataframe tbody tr th:only-of-type {\n",
       "        vertical-align: middle;\n",
       "    }\n",
       "\n",
       "    .dataframe tbody tr th {\n",
       "        vertical-align: top;\n",
       "    }\n",
       "\n",
       "    .dataframe thead th {\n",
       "        text-align: right;\n",
       "    }\n",
       "</style>\n",
       "<table border=\"1\" class=\"dataframe\">\n",
       "  <thead>\n",
       "    <tr style=\"text-align: right;\">\n",
       "      <th></th>\n",
       "      <th>mpg</th>\n",
       "      <th>cylinders</th>\n",
       "      <th>displacement</th>\n",
       "      <th>horsepower</th>\n",
       "      <th>weight</th>\n",
       "      <th>acceleration</th>\n",
       "      <th>model_year</th>\n",
       "      <th>origin</th>\n",
       "      <th>ClusterNumber</th>\n",
       "    </tr>\n",
       "  </thead>\n",
       "  <tbody>\n",
       "    <tr>\n",
       "      <th>0</th>\n",
       "      <td>15.0</td>\n",
       "      <td>8</td>\n",
       "      <td>350.0</td>\n",
       "      <td>165.0</td>\n",
       "      <td>3693</td>\n",
       "      <td>11.5</td>\n",
       "      <td>70</td>\n",
       "      <td>1</td>\n",
       "      <td>0</td>\n",
       "    </tr>\n",
       "    <tr>\n",
       "      <th>1</th>\n",
       "      <td>18.0</td>\n",
       "      <td>8</td>\n",
       "      <td>318.0</td>\n",
       "      <td>150.0</td>\n",
       "      <td>3436</td>\n",
       "      <td>11.0</td>\n",
       "      <td>70</td>\n",
       "      <td>1</td>\n",
       "      <td>0</td>\n",
       "    </tr>\n",
       "    <tr>\n",
       "      <th>2</th>\n",
       "      <td>16.0</td>\n",
       "      <td>8</td>\n",
       "      <td>304.0</td>\n",
       "      <td>150.0</td>\n",
       "      <td>3433</td>\n",
       "      <td>12.0</td>\n",
       "      <td>70</td>\n",
       "      <td>1</td>\n",
       "      <td>0</td>\n",
       "    </tr>\n",
       "    <tr>\n",
       "      <th>3</th>\n",
       "      <td>17.0</td>\n",
       "      <td>8</td>\n",
       "      <td>302.0</td>\n",
       "      <td>140.0</td>\n",
       "      <td>3449</td>\n",
       "      <td>10.5</td>\n",
       "      <td>70</td>\n",
       "      <td>1</td>\n",
       "      <td>0</td>\n",
       "    </tr>\n",
       "    <tr>\n",
       "      <th>4</th>\n",
       "      <td>15.0</td>\n",
       "      <td>8</td>\n",
       "      <td>429.0</td>\n",
       "      <td>198.0</td>\n",
       "      <td>4341</td>\n",
       "      <td>10.0</td>\n",
       "      <td>70</td>\n",
       "      <td>1</td>\n",
       "      <td>0</td>\n",
       "    </tr>\n",
       "  </tbody>\n",
       "</table>\n",
       "</div>"
      ],
      "text/plain": [
       "    mpg  cylinders  displacement  horsepower  weight  acceleration  \\\n",
       "0  15.0          8         350.0       165.0    3693          11.5   \n",
       "1  18.0          8         318.0       150.0    3436          11.0   \n",
       "2  16.0          8         304.0       150.0    3433          12.0   \n",
       "3  17.0          8         302.0       140.0    3449          10.5   \n",
       "4  15.0          8         429.0       198.0    4341          10.0   \n",
       "\n",
       "   model_year  origin  ClusterNumber  \n",
       "0          70       1              0  \n",
       "1          70       1              0  \n",
       "2          70       1              0  \n",
       "3          70       1              0  \n",
       "4          70       1              0  "
      ]
     },
     "execution_count": 274,
     "metadata": {},
     "output_type": "execute_result"
    }
   ],
   "source": [
    "data = pd.read_csv('clustered_data.csv')\n",
    "data.head()"
   ]
  },
  {
   "cell_type": "markdown",
   "metadata": {},
   "source": [
    "### Step 3 : Scale the data to compensate for differences in range of independent variables"
   ]
  },
  {
   "cell_type": "code",
   "execution_count": 275,
   "metadata": {},
   "outputs": [
    {
     "data": {
      "text/html": [
       "<div>\n",
       "<style scoped>\n",
       "    .dataframe tbody tr th:only-of-type {\n",
       "        vertical-align: middle;\n",
       "    }\n",
       "\n",
       "    .dataframe tbody tr th {\n",
       "        vertical-align: top;\n",
       "    }\n",
       "\n",
       "    .dataframe thead th {\n",
       "        text-align: right;\n",
       "    }\n",
       "</style>\n",
       "<table border=\"1\" class=\"dataframe\">\n",
       "  <thead>\n",
       "    <tr style=\"text-align: right;\">\n",
       "      <th></th>\n",
       "      <th>mpg</th>\n",
       "      <th>cylinders</th>\n",
       "      <th>displacement</th>\n",
       "      <th>horsepower</th>\n",
       "      <th>weight</th>\n",
       "      <th>acceleration</th>\n",
       "      <th>model_year</th>\n",
       "      <th>origin</th>\n",
       "      <th>ClusterNumber</th>\n",
       "    </tr>\n",
       "  </thead>\n",
       "  <tbody>\n",
       "    <tr>\n",
       "      <th>0</th>\n",
       "      <td>-1.091843</td>\n",
       "      <td>1.504336</td>\n",
       "      <td>1.506627</td>\n",
       "      <td>1.591462</td>\n",
       "      <td>0.855275</td>\n",
       "      <td>-1.481575</td>\n",
       "      <td>-1.634937</td>\n",
       "      <td>-0.716507</td>\n",
       "      <td>0</td>\n",
       "    </tr>\n",
       "    <tr>\n",
       "      <th>1</th>\n",
       "      <td>-0.707773</td>\n",
       "      <td>1.504336</td>\n",
       "      <td>1.199270</td>\n",
       "      <td>1.199730</td>\n",
       "      <td>0.551642</td>\n",
       "      <td>-1.663271</td>\n",
       "      <td>-1.634937</td>\n",
       "      <td>-0.716507</td>\n",
       "      <td>0</td>\n",
       "    </tr>\n",
       "    <tr>\n",
       "      <th>2</th>\n",
       "      <td>-0.963820</td>\n",
       "      <td>1.504336</td>\n",
       "      <td>1.064801</td>\n",
       "      <td>1.199730</td>\n",
       "      <td>0.548098</td>\n",
       "      <td>-1.299879</td>\n",
       "      <td>-1.634937</td>\n",
       "      <td>-0.716507</td>\n",
       "      <td>0</td>\n",
       "    </tr>\n",
       "    <tr>\n",
       "      <th>3</th>\n",
       "      <td>-0.835796</td>\n",
       "      <td>1.504336</td>\n",
       "      <td>1.045591</td>\n",
       "      <td>0.938576</td>\n",
       "      <td>0.567001</td>\n",
       "      <td>-1.844967</td>\n",
       "      <td>-1.634937</td>\n",
       "      <td>-0.716507</td>\n",
       "      <td>0</td>\n",
       "    </tr>\n",
       "    <tr>\n",
       "      <th>4</th>\n",
       "      <td>-1.091843</td>\n",
       "      <td>1.504336</td>\n",
       "      <td>2.265414</td>\n",
       "      <td>2.453271</td>\n",
       "      <td>1.620855</td>\n",
       "      <td>-2.026662</td>\n",
       "      <td>-1.634937</td>\n",
       "      <td>-0.716507</td>\n",
       "      <td>0</td>\n",
       "    </tr>\n",
       "  </tbody>\n",
       "</table>\n",
       "</div>"
      ],
      "text/plain": [
       "        mpg  cylinders  displacement  horsepower    weight  acceleration  \\\n",
       "0 -1.091843   1.504336      1.506627    1.591462  0.855275     -1.481575   \n",
       "1 -0.707773   1.504336      1.199270    1.199730  0.551642     -1.663271   \n",
       "2 -0.963820   1.504336      1.064801    1.199730  0.548098     -1.299879   \n",
       "3 -0.835796   1.504336      1.045591    0.938576  0.567001     -1.844967   \n",
       "4 -1.091843   1.504336      2.265414    2.453271  1.620855     -2.026662   \n",
       "\n",
       "   model_year    origin  ClusterNumber  \n",
       "0   -1.634937 -0.716507              0  \n",
       "1   -1.634937 -0.716507              0  \n",
       "2   -1.634937 -0.716507              0  \n",
       "3   -1.634937 -0.716507              0  \n",
       "4   -1.634937 -0.716507              0  "
      ]
     },
     "execution_count": 275,
     "metadata": {},
     "output_type": "execute_result"
    }
   ],
   "source": [
    "x_sc = data.iloc[:,:8].copy()\n",
    "scaler = StandardScaler()\n",
    "x_sc = scaler.fit_transform(x_sc)\n",
    "\n",
    "# Since data is now converted to array, convert it back to dataframe with scaled features\n",
    "# to work with plots and other analysis later\n",
    "cols = list(data.columns.values)\n",
    "vals = [x_sc[:,i] for i in range(x_sc.shape[1])]\n",
    "scaled_df = pd.DataFrame(dict(zip(cols,vals)))\n",
    "scaled_df['ClusterNumber'] = data['ClusterNumber']\n",
    "data = scaled_df\n",
    "data.head()\n"
   ]
  },
  {
   "cell_type": "markdown",
   "metadata": {},
   "source": [
    "### Step 3 : Extract each feature into a list to train it for Cluster predictions"
   ]
  },
  {
   "cell_type": "code",
   "execution_count": 276,
   "metadata": {},
   "outputs": [],
   "source": [
    "features = []\n",
    "Y = data['ClusterNumber']\n",
    "\n",
    "for i in range(8):\n",
    "    nxt_feature = data.iloc[:,i:i+1].values\n",
    "    features.append(nxt_feature)"
   ]
  },
  {
   "cell_type": "markdown",
   "metadata": {},
   "source": [
    "### Step 4 : Fit Logistic Regression classification algorithm on each feature against cluster memberships\n",
    "\n",
    "1. Take a feature (column)\n",
    "2. Split the selected feature(X)and prediction column(Y) into training and testing sets\n",
    "3. Train a Logistic Regression model with feature as independent variable and Cluster membership as dependent\n",
    "   for each feature\n",
    "4. Compute and store the performance of each model\n"
   ]
  },
  {
   "cell_type": "code",
   "execution_count": 277,
   "metadata": {},
   "outputs": [
    {
     "name": "stdout",
     "output_type": "stream",
     "text": [
      "\n",
      "-------------------------\n",
      "FEATURE : mpg\n",
      "-------------------------\n",
      "\n",
      "Fitting Feature 'mpg' against cluster assignments.....\n",
      "Cluster Prediction Accuracy using mpg : 0.867\n",
      "\n",
      "-------------------------\n",
      "FEATURE : cylinders\n",
      "-------------------------\n",
      "\n",
      "Fitting Feature 'cylinders' against cluster assignments.....\n",
      "Cluster Prediction Accuracy using cylinders : 0.833\n",
      "\n",
      "-------------------------\n",
      "FEATURE : displacement\n",
      "-------------------------\n",
      "\n",
      "Fitting Feature 'displacement' against cluster assignments.....\n",
      "Cluster Prediction Accuracy using displacement : 0.95\n",
      "\n",
      "-------------------------\n",
      "FEATURE : horsepower\n",
      "-------------------------\n",
      "\n",
      "Fitting Feature 'horsepower' against cluster assignments.....\n",
      "Cluster Prediction Accuracy using horsepower : 0.817\n",
      "\n",
      "-------------------------\n",
      "FEATURE : weight\n",
      "-------------------------\n",
      "\n",
      "Fitting Feature 'weight' against cluster assignments.....\n",
      "Cluster Prediction Accuracy using weight : 1.0\n",
      "\n",
      "-------------------------\n",
      "FEATURE : acceleration\n",
      "-------------------------\n",
      "\n",
      "Fitting Feature 'acceleration' against cluster assignments.....\n",
      "Cluster Prediction Accuracy using acceleration : 0.7\n",
      "\n",
      "-------------------------\n",
      "FEATURE : model_year\n",
      "-------------------------\n",
      "\n",
      "Fitting Feature 'model_year' against cluster assignments.....\n",
      "Cluster Prediction Accuracy using model_year : 0.633\n",
      "\n",
      "-------------------------\n",
      "FEATURE : origin\n",
      "-------------------------\n",
      "\n",
      "Fitting Feature 'origin' against cluster assignments.....\n",
      "Cluster Prediction Accuracy using origin : 0.717\n"
     ]
    }
   ],
   "source": [
    "from sklearn.model_selection import train_test_split\n",
    "from sklearn.linear_model import LogisticRegression\n",
    "from sklearn.metrics import confusion_matrix,accuracy_score,precision_score,recall_score\n",
    "\n",
    "col_names = list(data.columns)[:-1]\n",
    "ftr_accuracy_map = {}\n",
    "ftr_cm_map = {}\n",
    "for ftr_num,nxt_feature in enumerate(features):\n",
    "    print('\\n-------------------------\\nFEATURE : '+col_names[ftr_num]+'\\n-------------------------\\n')\n",
    "    X_train, X_test, Y_train, Y_test = train_test_split(nxt_feature,Y,test_size=3/20,random_state=0)\n",
    "    print('Fitting Feature \\''+col_names[ftr_num]+'\\' against cluster assignments.....')\n",
    "    classifier = LogisticRegression(random_state=0)\n",
    "    classifier.fit(X_train, Y_train)\n",
    "    Y_pred = classifier.predict(X_test)\n",
    "    cm= confusion_matrix(Y_test, Y_pred)\n",
    "    model_acc = accuracy_score(Y_test, Y_pred)\n",
    "    precision_sc = precision_score(Y_test,Y_pred)\n",
    "    recall_sc = recall_score(Y_test, Y_pred)\n",
    "    \n",
    "    print('Cluster Prediction Accuracy using '+col_names[ftr_num]+' : '+str(round(model_acc,3)) )\n",
    "    cm= confusion_matrix(Y_test, Y_pred)\n",
    "    model_acc = round(accuracy_score(Y_test, Y_pred),3)\n",
    "    precision_sc = round(precision_score(Y_test,Y_pred),3)\n",
    "    recall_sc = round(recall_score(Y_test, Y_pred),3)\n",
    "    ftr_accuracy_map[col_names[ftr_num]] = model_acc\n",
    "    ftr_cm_map[col_names[ftr_num]] = cm"
   ]
  },
  {
   "cell_type": "markdown",
   "metadata": {},
   "source": [
    "### Step 5 : Rank performance of each feature in predicting the cluster memberships in descending order"
   ]
  },
  {
   "cell_type": "code",
   "execution_count": 278,
   "metadata": {},
   "outputs": [
    {
     "name": "stdout",
     "output_type": "stream",
     "text": [
      "\n",
      "\n",
      "\n",
      "--------------------------------------------------       \n",
      "CLUSTERING PREDICTION ACCURACY  OF FEATURES :       \n",
      "--------------------------------------------------\n",
      "\n",
      "WEIGHT                     1.0\n",
      "DISPLACEMENT              0.95\n",
      "MPG                      0.867\n",
      "CYLINDERS                0.833\n",
      "HORSEPOWER               0.817\n",
      "ORIGIN                   0.717\n",
      "ACCELERATION               0.7\n",
      "MODEL_YEAR               0.633\n",
      "--------------------------------------------------\n",
      "\n",
      "\n"
     ]
    }
   ],
   "source": [
    "print('\\n\\n\\n--------------------------------------------------\\\n",
    "       \\nCLUSTERING PREDICTION ACCURACY  OF FEATURES :\\\n",
    "       \\n--------------------------------------------------\\n')\n",
    "sorted_performance = dict(sorted(ftr_accuracy_map.items() , key = lambda x : x[1], reverse=True))\n",
    "for feature,perf in sorted_performance.items():\n",
    "    print(f\"{feature.upper():<20}{perf:10}\")\n",
    "    \n",
    "print('--------------------------------------------------\\n\\n')"
   ]
  },
  {
   "cell_type": "markdown",
   "metadata": {},
   "source": [
    "### Step 6 : Plot Feature Name vs Accuracy for each feature\n",
    "\n",
    "This gives an visual insight into clustering predictions of each feature"
   ]
  },
  {
   "cell_type": "code",
   "execution_count": 279,
   "metadata": {},
   "outputs": [
    {
     "name": "stdout",
     "output_type": "stream",
     "text": [
      "\n",
      "  -------------------------------------------------------------------------------------\n",
      "\n"
     ]
    },
    {
     "data": {
      "image/png": "[encoded data removed]",
      "text/plain": [
       "<Figure size 720x504 with 1 Axes>"
      ]
     },
     "metadata": {
      "needs_background": "light"
     },
     "output_type": "display_data"
    },
    {
     "name": "stdout",
     "output_type": "stream",
     "text": [
      "\n",
      "\n",
      "\n"
     ]
    }
   ],
   "source": [
    "print('\\n  -------------------------------------------------------------------------------------\\n')\n",
    "\n",
    "fig, ax = plt.subplots(figsize=(10,7))\n",
    "im = ax.plot(ftr_accuracy_map.keys() , ftr_accuracy_map.values())\n",
    "# Loop over data dimensions and create text annotations.\n",
    "\n",
    "ax.set_xticks(np.arange(len(col_names)))\n",
    "ax.set_xticklabels([x.upper() for x in col_names], fontsize=15, rotation=45)\n",
    "ax.set_title(\"\\nFeature vs Cluster Assignment Prediction\\n\", fontsize=20)\n",
    "fig.tight_layout()\n",
    "plt.show()\n",
    "print('\\n\\n')"
   ]
  },
  {
   "cell_type": "markdown",
   "metadata": {},
   "source": [
    "### Step 7 : VISUALIZE CONFUSION MATRIX OF THE WINNING FEATURE\n",
    "\n",
    "Below is a visualization  of confusion matrix for the winning feature , i.e. , Weight in this case\n"
   ]
  },
  {
   "cell_type": "code",
   "execution_count": 281,
   "metadata": {},
   "outputs": [
    {
     "data": {
      "text/plain": [
       "array([[20,  0],\n",
       "       [ 0, 40]])"
      ]
     },
     "execution_count": 281,
     "metadata": {},
     "output_type": "execute_result"
    }
   ],
   "source": [
    "ftr_cm_map['weight']"
   ]
  },
  {
   "cell_type": "code",
   "execution_count": 282,
   "metadata": {},
   "outputs": [
    {
     "data": {
      "image/png": "[encoded data removed]",
      "text/plain": [
       "<Figure size 504x504 with 1 Axes>"
      ]
     },
     "metadata": {
      "needs_background": "light"
     },
     "output_type": "display_data"
    }
   ],
   "source": [
    "#Plot the matrix\n",
    "cm = ftr_cm_map['weight']\n",
    "fig, ax = plt.subplots(figsize=(7,7))\n",
    "im = ax.imshow(cm,cmap='Oranges')\n",
    "# Loop over data dimensions and create text annotations.\n",
    "for i in range(2):\n",
    "    for j in range(2):\n",
    "        text = ax.text(j, i, cm[i, j],\n",
    "               ha=\"center\", va=\"center\", color=\"black\",fontsize=15)\n",
    "ax.xaxis.set_visible(False) \n",
    "ax.yaxis.set_visible(False) \n",
    "ax.set_title(\"\\n\\nCONFUSION MATRIX : \\'WEIGHT\\' VS CLUSTERING\\n\\n\", fontsize=15)\n",
    "fig.tight_layout()\n",
    "plt.show()"
   ]
  },
  {
   "cell_type": "markdown",
   "metadata": {},
   "source": [
    "### Step 8 : Conclusion\n",
    "\n",
    "As we can see from the visual plots and ranked output of each feature vs clustering assigment prediction models,\n",
    "the model trained using 'Weight' variable is 100% accurate in predicion of clusterings. The confusion matrix shows presence of zero 'False Negatives' or ' False Positives' in its predictions. This is followed by performance of\n",
    "model built using 'Displacement' as the predictor of clustering.\n",
    "\n",
    " **Thus we can say that**\n",
    "1. Weight\n",
    "2. Displacemnt\n",
    "\n",
    "are most significant features contributing to our clusterings"
   ]
  }
 ],
 "metadata": {
  "kernelspec": {
   "display_name": "Python 3",
   "language": "python",
   "name": "python3"
  },
  "language_info": {
   "codemirror_mode": {
    "name": "ipython",
    "version": 3
   },
   "file_extension": ".py",
   "mimetype": "text/x-python",
   "name": "python",
   "nbconvert_exporter": "python",
   "pygments_lexer": "ipython3",
   "version": "3.7.1"
  }
 },
 "nbformat": 4,
 "nbformat_minor": 2
}
